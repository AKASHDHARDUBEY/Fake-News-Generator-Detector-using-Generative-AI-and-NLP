{
 "cells": [
  {
   "cell_type": "markdown",
   "id": "481cd189",
   "metadata": {},
   "source": [
    "# 🧠 Fake News Generator & Detector using Generative AI and NLP\n",
    "**Author:** Akash Dhar Dubey\n",
    "\n",
    "This notebook demonstrates the use of Generative AI to create and detect fake news using GPT-2 and BERT."
   ]
  },
  {
   "cell_type": "markdown",
   "id": "2cb3ebd4",
   "metadata": {},
   "source": [
    "## 🔧 Setup & Install Required Libraries"
   ]
  },
  {
   "cell_type": "code",
   "execution_count": null,
   "id": "883d9f74",
   "metadata": {},
   "outputs": [],
   "source": [
    "\n",
    "!pip install transformers torch pandas scikit-learn\n"
   ]
  },
  {
   "cell_type": "markdown",
   "id": "db3db80e",
   "metadata": {},
   "source": [
    "## 📚 Import Libraries"
   ]
  },
  {
   "cell_type": "code",
   "execution_count": null,
   "id": "8977a26b",
   "metadata": {},
   "outputs": [],
   "source": [
    "\n",
    "from transformers import GPT2LMHeadModel, GPT2Tokenizer, BertTokenizer, BertForSequenceClassification\n",
    "from transformers import Trainer, TrainingArguments\n",
    "import torch\n",
    "import pandas as pd\n",
    "import numpy as np\n",
    "from sklearn.model_selection import train_test_split\n",
    "from sklearn.metrics import classification_report\n"
   ]
  },
  {
   "cell_type": "markdown",
   "id": "1090dd85",
   "metadata": {},
   "source": [
    "## ✍️ Fake News Generator using GPT-2"
   ]
  },
  {
   "cell_type": "code",
   "execution_count": null,
   "id": "8d2633c5",
   "metadata": {},
   "outputs": [],
   "source": [
    "\n",
    "gpt2_tokenizer = GPT2Tokenizer.from_pretrained(\"gpt2\")\n",
    "gpt2_model = GPT2LMHeadModel.from_pretrained(\"gpt2\")\n",
    "\n",
    "def generate_fake_news(prompt, max_length=50):\n",
    "    input_ids = gpt2_tokenizer.encode(prompt, return_tensors='pt')\n",
    "    output = gpt2_model.generate(input_ids, max_length=max_length, num_return_sequences=1)\n",
    "    return gpt2_tokenizer.decode(output[0], skip_special_tokens=True)\n",
    "\n",
    "# Example\n",
    "generate_fake_news(\"Breaking news:\")\n"
   ]
  },
  {
   "cell_type": "markdown",
   "id": "87a7d06b",
   "metadata": {},
   "source": [
    "## 🕵️ Fake News Detection using BERT"
   ]
  },
  {
   "cell_type": "code",
   "execution_count": null,
   "id": "fba54616",
   "metadata": {},
   "outputs": [],
   "source": [
    "\n",
    "# Sample dataset: Replace this with actual path or dataset\n",
    "df = pd.DataFrame({\n",
    "    'text': [\n",
    "        \"Aliens landed in New York City.\",\n",
    "        \"The president gave a speech on economy today.\",\n",
    "        \"Scientists discover a new planet.\",\n",
    "        \"Actor wins award for performance in thriller movie.\"\n",
    "    ],\n",
    "    'label': [1, 0, 1, 0]  # 1 = Fake, 0 = Real\n",
    "})\n",
    "\n",
    "train_texts, val_texts, train_labels, val_labels = train_test_split(df['text'], df['label'], test_size=0.2)\n",
    "\n",
    "bert_tokenizer = BertTokenizer.from_pretrained('bert-base-uncased')\n",
    "train_encodings = bert_tokenizer(list(train_texts), truncation=True, padding=True, return_tensors=\"pt\")\n",
    "val_encodings = bert_tokenizer(list(val_texts), truncation=True, padding=True, return_tensors=\"pt\")\n",
    "\n",
    "class NewsDataset(torch.utils.data.Dataset):\n",
    "    def __init__(self, encodings, labels):\n",
    "        self.encodings = encodings\n",
    "        self.labels = labels\n",
    "    def __getitem__(self, idx):\n",
    "        item = {key: val[idx] for key, val in self.encodings.items()}\n",
    "        item['labels'] = torch.tensor(self.labels[idx])\n",
    "        return item\n",
    "    def __len__(self):\n",
    "        return len(self.labels)\n",
    "\n",
    "train_dataset = NewsDataset(train_encodings, list(train_labels))\n",
    "val_dataset = NewsDataset(val_encodings, list(val_labels))\n",
    "\n",
    "bert_model = BertForSequenceClassification.from_pretrained('bert-base-uncased', num_labels=2)\n",
    "\n",
    "training_args = TrainingArguments(\n",
    "    output_dir='./results',\n",
    "    num_train_epochs=2,\n",
    "    per_device_train_batch_size=2,\n",
    "    per_device_eval_batch_size=2,\n",
    "    warmup_steps=10,\n",
    "    weight_decay=0.01,\n",
    "    logging_dir='./logs',\n",
    "    logging_steps=5,\n",
    "    evaluation_strategy=\"epoch\"\n",
    ")\n",
    "\n",
    "trainer = Trainer(\n",
    "    model=bert_model,\n",
    "    args=training_args,\n",
    "    train_dataset=train_dataset,\n",
    "    eval_dataset=val_dataset\n",
    ")\n",
    "\n",
    "trainer.train()\n"
   ]
  },
  {
   "cell_type": "markdown",
   "id": "e591286f",
   "metadata": {},
   "source": [
    "## 📊 Evaluate BERT Model"
   ]
  },
  {
   "cell_type": "code",
   "execution_count": null,
   "id": "a91ec66e",
   "metadata": {},
   "outputs": [],
   "source": [
    "\n",
    "preds = trainer.predict(val_dataset)\n",
    "pred_labels = np.argmax(preds.predictions, axis=1)\n",
    "print(classification_report(val_labels, pred_labels))\n"
   ]
  }
 ],
 "metadata": {
  "language_info": {
   "name": "python"
  }
 },
 "nbformat": 4,
 "nbformat_minor": 5
}
